{
 "cells": [
  {
   "cell_type": "markdown",
   "id": "36f38e2a-9998-4c73-bfc3-21b74d64a5ee",
   "metadata": {},
   "source": [
    "### End 2 End NLP Project\n",
    "+ Emotion Detection In Customer review text \n",
    "+ Text Classifier"
   ]
  },
  {
   "cell_type": "code",
   "execution_count": 1,
   "id": "f0814628-3d83-4fd6-a511-2eccf79f9f1e",
   "metadata": {},
   "outputs": [],
   "source": [
    "# Import libraries\n",
    "import pandas as pd\n",
    "import numpy as np\n",
    "import seaborn as sns\n",
    "\n",
    "from sklearn.linear_model import LogisticRegression\n",
    "from sklearn.naive_bayes import MultinomialNB\n",
    "\n",
    "from sklearn.feature_extraction.text import CountVectorizer\n",
    "from sklearn.model_selection import train_test_split\n",
    "from sklearn.metrics import accuracy_score,classification_report,confusion_matrix"
   ]
  },
  {
   "cell_type": "code",
   "execution_count": 3,
   "id": "874f7023",
   "metadata": {},
   "outputs": [],
   "source": [
    "#run only one time\n",
    "#pip install neattext"
   ]
  },
  {
   "cell_type": "code",
   "execution_count": 4,
   "id": "91eccfbf-d4d0-4e16-b0f7-2d7941efddb0",
   "metadata": {},
   "outputs": [],
   "source": [
    "# Load Text Cleaning Pkgs\n",
    "import neattext.functions as nfx"
   ]
  },
  {
   "cell_type": "code",
   "execution_count": 6,
   "id": "b209e004-ab77-4407-8689-b4318944d47f",
   "metadata": {},
   "outputs": [],
   "source": [
    "# Load Dataset\n",
    "\n",
    "df = pd.read_csv(\"final_data.csv\")"
   ]
  },
  {
   "cell_type": "code",
   "execution_count": 7,
   "id": "fea2d4c0-3bdd-405e-ab69-507ceaac36cb",
   "metadata": {},
   "outputs": [
    {
     "data": {
      "text/html": [
       "<div>\n",
       "<style scoped>\n",
       "    .dataframe tbody tr th:only-of-type {\n",
       "        vertical-align: middle;\n",
       "    }\n",
       "\n",
       "    .dataframe tbody tr th {\n",
       "        vertical-align: top;\n",
       "    }\n",
       "\n",
       "    .dataframe thead th {\n",
       "        text-align: right;\n",
       "    }\n",
       "</style>\n",
       "<table border=\"1\" class=\"dataframe\">\n",
       "  <thead>\n",
       "    <tr style=\"text-align: right;\">\n",
       "      <th></th>\n",
       "      <th>Emotion</th>\n",
       "      <th>cleaned_text</th>\n",
       "      <th>without_sw</th>\n",
       "    </tr>\n",
       "  </thead>\n",
       "  <tbody>\n",
       "    <tr>\n",
       "      <th>0</th>\n",
       "      <td>anger</td>\n",
       "      <td>fuckin m transtelecom</td>\n",
       "      <td>fuckin transtelecom</td>\n",
       "    </tr>\n",
       "    <tr>\n",
       "      <th>1</th>\n",
       "      <td>anger</td>\n",
       "      <td>working but it s fridaaaayyyyy</td>\n",
       "      <td>working fridaaaayyyyy</td>\n",
       "    </tr>\n",
       "    <tr>\n",
       "      <th>2</th>\n",
       "      <td>anger</td>\n",
       "      <td>packing i don t like it</td>\n",
       "      <td>packing like</td>\n",
       "    </tr>\n",
       "    <tr>\n",
       "      <th>3</th>\n",
       "      <td>anger</td>\n",
       "      <td>i tried to dye my hair and all i got was a blo...</td>\n",
       "      <td>tried dye hair got blond chunk front middle pa...</td>\n",
       "    </tr>\n",
       "    <tr>\n",
       "      <th>4</th>\n",
       "      <td>anger</td>\n",
       "      <td>quot locked up abroad quot makes bein half br...</td>\n",
       "      <td>quot locked abroad quot makes bein half brown ...</td>\n",
       "    </tr>\n",
       "  </tbody>\n",
       "</table>\n",
       "</div>"
      ],
      "text/plain": [
       "  Emotion                                       cleaned_text  \\\n",
       "0   anger                              fuckin m transtelecom   \n",
       "1   anger                     working but it s fridaaaayyyyy   \n",
       "2   anger                           packing i don t like it    \n",
       "3   anger  i tried to dye my hair and all i got was a blo...   \n",
       "4   anger   quot locked up abroad quot makes bein half br...   \n",
       "\n",
       "                                          without_sw  \n",
       "0                                fuckin transtelecom  \n",
       "1                              working fridaaaayyyyy  \n",
       "2                                       packing like  \n",
       "3  tried dye hair got blond chunk front middle pa...  \n",
       "4  quot locked abroad quot makes bein half brown ...  "
      ]
     },
     "execution_count": 7,
     "metadata": {},
     "output_type": "execute_result"
    }
   ],
   "source": [
    "df.head()"
   ]
  },
  {
   "cell_type": "code",
   "execution_count": 8,
   "id": "430565a3-cf3b-4c6f-afa5-bafd084f5676",
   "metadata": {},
   "outputs": [
    {
     "data": {
      "text/plain": [
       "criticism    25066\n",
       "hate         14886\n",
       "anger        14839\n",
       "offensive    10579\n",
       "joy          10200\n",
       "optimism      9007\n",
       "fear          8829\n",
       "sadness       8520\n",
       "love          6296\n",
       "surprise      5106\n",
       "Name: Emotion, dtype: int64"
      ]
     },
     "execution_count": 8,
     "metadata": {},
     "output_type": "execute_result"
    }
   ],
   "source": [
    "# Value Counts\n",
    "df['Emotion'].value_counts()"
   ]
  },
  {
   "cell_type": "code",
   "execution_count": 9,
   "id": "531d3449-a959-4a19-bff0-3ffed551e619",
   "metadata": {},
   "outputs": [
    {
     "data": {
      "text/plain": [
       "<AxesSubplot:xlabel='Emotion', ylabel='count'>"
      ]
     },
     "execution_count": 9,
     "metadata": {},
     "output_type": "execute_result"
    },
    {
     "data": {
      "image/png": "[encoded data removed]",
      "text/plain": [
       "<Figure size 432x288 with 1 Axes>"
      ]
     },
     "metadata": {
      "needs_background": "light"
     },
     "output_type": "display_data"
    }
   ],
   "source": [
    "# Plot\n",
    "sns.set(rc={'figure.figsize':(10,6)})\n",
    "sns.countplot(x='Emotion',data=df)"
   ]
  },
  {
   "cell_type": "code",
   "execution_count": 10,
   "id": "40f991d0-952f-40c1-bf00-f3476ce0436d",
   "metadata": {
    "jupyter": {
     "outputs_hidden": true
    },
    "tags": []
   },
   "outputs": [
    {
     "data": {
      "text/plain": [
       "['BTC_ADDRESS_REGEX',\n",
       " 'CURRENCY_REGEX',\n",
       " 'CURRENCY_SYMB_REGEX',\n",
       " 'Counter',\n",
       " 'DATE_REGEX',\n",
       " 'EMAIL_REGEX',\n",
       " 'EMOJI_REGEX',\n",
       " 'HASTAG_REGEX',\n",
       " 'MASTERCard_REGEX',\n",
       " 'MD5_SHA_REGEX',\n",
       " 'MOST_COMMON_PUNCT_REGEX',\n",
       " 'NUMBERS_REGEX',\n",
       " 'PHONE_REGEX',\n",
       " 'PoBOX_REGEX',\n",
       " 'SPECIAL_CHARACTERS_REGEX',\n",
       " 'STOPWORDS',\n",
       " 'STOPWORDS_de',\n",
       " 'STOPWORDS_en',\n",
       " 'STOPWORDS_es',\n",
       " 'STOPWORDS_fr',\n",
       " 'STOPWORDS_ru',\n",
       " 'STOPWORDS_yo',\n",
       " 'STREET_ADDRESS_REGEX',\n",
       " 'TextFrame',\n",
       " 'URL_PATTERN',\n",
       " 'USER_HANDLES_REGEX',\n",
       " 'VISACard_REGEX',\n",
       " '__builtins__',\n",
       " '__cached__',\n",
       " '__doc__',\n",
       " '__file__',\n",
       " '__generate_text',\n",
       " '__loader__',\n",
       " '__name__',\n",
       " '__numbers_dict',\n",
       " '__package__',\n",
       " '__spec__',\n",
       " '_lex_richness_herdan',\n",
       " '_lex_richness_maas_ttr',\n",
       " 'clean_text',\n",
       " 'defaultdict',\n",
       " 'digit2words',\n",
       " 'extract_btc_address',\n",
       " 'extract_currencies',\n",
       " 'extract_currency_symbols',\n",
       " 'extract_dates',\n",
       " 'extract_emails',\n",
       " 'extract_emojis',\n",
       " 'extract_hashtags',\n",
       " 'extract_html_tags',\n",
       " 'extract_mastercard_addr',\n",
       " 'extract_md5sha',\n",
       " 'extract_numbers',\n",
       " 'extract_pattern',\n",
       " 'extract_phone_numbers',\n",
       " 'extract_postoffice_box',\n",
       " 'extract_shortwords',\n",
       " 'extract_special_characters',\n",
       " 'extract_stopwords',\n",
       " 'extract_street_address',\n",
       " 'extract_terms_in_bracket',\n",
       " 'extract_urls',\n",
       " 'extract_userhandles',\n",
       " 'extract_visacard_addr',\n",
       " 'fix_contractions',\n",
       " 'generate_sentence',\n",
       " 'hamming_distance',\n",
       " 'inverse_df',\n",
       " 'lexical_richness',\n",
       " 'markov_chain',\n",
       " 'math',\n",
       " 'nlargest',\n",
       " 'normalize',\n",
       " 'num2words',\n",
       " 'random',\n",
       " 're',\n",
       " 'read_txt',\n",
       " 'remove_accents',\n",
       " 'remove_bad_quotes',\n",
       " 'remove_btc_address',\n",
       " 'remove_currencies',\n",
       " 'remove_currency_symbols',\n",
       " 'remove_custom_pattern',\n",
       " 'remove_custom_words',\n",
       " 'remove_dates',\n",
       " 'remove_emails',\n",
       " 'remove_emojis',\n",
       " 'remove_hashtags',\n",
       " 'remove_html_tags',\n",
       " 'remove_mastercard_addr',\n",
       " 'remove_md5sha',\n",
       " 'remove_multiple_spaces',\n",
       " 'remove_non_ascii',\n",
       " 'remove_numbers',\n",
       " 'remove_phone_numbers',\n",
       " 'remove_postoffice_box',\n",
       " 'remove_puncts',\n",
       " 'remove_punctuations',\n",
       " 'remove_shortwords',\n",
       " 'remove_special_characters',\n",
       " 'remove_stopwords',\n",
       " 'remove_street_address',\n",
       " 'remove_terms_in_bracket',\n",
       " 'remove_urls',\n",
       " 'remove_userhandles',\n",
       " 'remove_visacard_addr',\n",
       " 'replace_bad_quotes',\n",
       " 'replace_currencies',\n",
       " 'replace_currency_symbols',\n",
       " 'replace_dates',\n",
       " 'replace_emails',\n",
       " 'replace_emojis',\n",
       " 'replace_numbers',\n",
       " 'replace_phone_numbers',\n",
       " 'replace_special_characters',\n",
       " 'replace_term',\n",
       " 'replace_urls',\n",
       " 'string',\n",
       " 'term_freq',\n",
       " 'to_txt',\n",
       " 'unicodedata',\n",
       " 'word_freq',\n",
       " 'word_length_freq']"
      ]
     },
     "execution_count": 10,
     "metadata": {},
     "output_type": "execute_result"
    }
   ],
   "source": [
    "# Data Cleaning\n",
    "dir(nfx)"
   ]
  },
  {
   "cell_type": "code",
   "execution_count": 11,
   "id": "b1f87847-a91c-4bd6-a307-d746eb5aa9a0",
   "metadata": {},
   "outputs": [],
   "source": [
    "# Remove User handles\n",
    "\n",
    "df['Clean_Text'] = df['cleaned_text'].apply(nfx.remove_userhandles) "
   ]
  },
  {
   "cell_type": "code",
   "execution_count": 12,
   "id": "03886bc3-1ac4-4f1b-842b-e5d2d770ff81",
   "metadata": {},
   "outputs": [],
   "source": [
    "# Stopwords\n",
    "\n",
    "df['Clean_Text'] = df['Clean_Text'].apply(nfx.remove_stopwords)"
   ]
  },
  {
   "cell_type": "code",
   "execution_count": 13,
   "id": "0a0fcc0c-4adf-4f0b-b226-164659ad70ba",
   "metadata": {
    "jupyter": {
     "outputs_hidden": true
    },
    "tags": []
   },
   "outputs": [
    {
     "data": {
      "text/html": [
       "<div>\n",
       "<style scoped>\n",
       "    .dataframe tbody tr th:only-of-type {\n",
       "        vertical-align: middle;\n",
       "    }\n",
       "\n",
       "    .dataframe tbody tr th {\n",
       "        vertical-align: top;\n",
       "    }\n",
       "\n",
       "    .dataframe thead th {\n",
       "        text-align: right;\n",
       "    }\n",
       "</style>\n",
       "<table border=\"1\" class=\"dataframe\">\n",
       "  <thead>\n",
       "    <tr style=\"text-align: right;\">\n",
       "      <th></th>\n",
       "      <th>Emotion</th>\n",
       "      <th>cleaned_text</th>\n",
       "      <th>without_sw</th>\n",
       "      <th>Clean_Text</th>\n",
       "    </tr>\n",
       "  </thead>\n",
       "  <tbody>\n",
       "    <tr>\n",
       "      <th>0</th>\n",
       "      <td>anger</td>\n",
       "      <td>fuckin m transtelecom</td>\n",
       "      <td>fuckin transtelecom</td>\n",
       "      <td>fuckin transtelecom</td>\n",
       "    </tr>\n",
       "    <tr>\n",
       "      <th>1</th>\n",
       "      <td>anger</td>\n",
       "      <td>working but it s fridaaaayyyyy</td>\n",
       "      <td>working fridaaaayyyyy</td>\n",
       "      <td>working fridaaaayyyyy</td>\n",
       "    </tr>\n",
       "    <tr>\n",
       "      <th>2</th>\n",
       "      <td>anger</td>\n",
       "      <td>packing i don t like it</td>\n",
       "      <td>packing like</td>\n",
       "      <td>packing like</td>\n",
       "    </tr>\n",
       "    <tr>\n",
       "      <th>3</th>\n",
       "      <td>anger</td>\n",
       "      <td>i tried to dye my hair and all i got was a blo...</td>\n",
       "      <td>tried dye hair got blond chunk front middle pa...</td>\n",
       "      <td>tried dye hair got blond chunk middle hair dang</td>\n",
       "    </tr>\n",
       "    <tr>\n",
       "      <th>4</th>\n",
       "      <td>anger</td>\n",
       "      <td>quot locked up abroad quot makes bein half br...</td>\n",
       "      <td>quot locked abroad quot makes bein half brown ...</td>\n",
       "      <td>quot locked abroad quot makes bein half brown ...</td>\n",
       "    </tr>\n",
       "    <tr>\n",
       "      <th>...</th>\n",
       "      <td>...</td>\n",
       "      <td>...</td>\n",
       "      <td>...</td>\n",
       "      <td>...</td>\n",
       "    </tr>\n",
       "    <tr>\n",
       "      <th>113323</th>\n",
       "      <td>offensive</td>\n",
       "      <td>that isnt a bill about lgbt sex workers its a...</td>\n",
       "      <td>bill lgbt sex workers  bill sex workers gener...</td>\n",
       "      <td>isnt bill lgbt sex workers bill sex workers ge...</td>\n",
       "    </tr>\n",
       "    <tr>\n",
       "      <th>113324</th>\n",
       "      <td>offensive</td>\n",
       "      <td>lol did you just do the trump very fine peopl...</td>\n",
       "      <td>lol trump fine people sides antifa punches naz...</td>\n",
       "      <td>lol trump fine people sides antifa punches naz...</td>\n",
       "    </tr>\n",
       "    <tr>\n",
       "      <th>113325</th>\n",
       "      <td>offensive</td>\n",
       "      <td>all i have to say is i amp facial expressions...</td>\n",
       "      <td>say amp facial expressions everything see  vid...</td>\n",
       "      <td>amp facial expressions video fucking</td>\n",
       "    </tr>\n",
       "    <tr>\n",
       "      <th>113326</th>\n",
       "      <td>offensive</td>\n",
       "      <td>wondering what shit on our east coast causing...</td>\n",
       "      <td>wondering shit east coast causing god send flo...</td>\n",
       "      <td>wondering shit east coast causing god send flo...</td>\n",
       "    </tr>\n",
       "    <tr>\n",
       "      <th>113327</th>\n",
       "      <td>offensive</td>\n",
       "      <td>here your proof our african  friends don t ge...</td>\n",
       "      <td>proof african  friends get free college demonc...</td>\n",
       "      <td>proof african friends free college demoncratic...</td>\n",
       "    </tr>\n",
       "  </tbody>\n",
       "</table>\n",
       "<p>113328 rows × 4 columns</p>\n",
       "</div>"
      ],
      "text/plain": [
       "          Emotion                                       cleaned_text  \\\n",
       "0           anger                              fuckin m transtelecom   \n",
       "1           anger                     working but it s fridaaaayyyyy   \n",
       "2           anger                           packing i don t like it    \n",
       "3           anger  i tried to dye my hair and all i got was a blo...   \n",
       "4           anger   quot locked up abroad quot makes bein half br...   \n",
       "...           ...                                                ...   \n",
       "113323  offensive   that isnt a bill about lgbt sex workers its a...   \n",
       "113324  offensive   lol did you just do the trump very fine peopl...   \n",
       "113325  offensive   all i have to say is i amp facial expressions...   \n",
       "113326  offensive   wondering what shit on our east coast causing...   \n",
       "113327  offensive   here your proof our african  friends don t ge...   \n",
       "\n",
       "                                               without_sw  \\\n",
       "0                                     fuckin transtelecom   \n",
       "1                                   working fridaaaayyyyy   \n",
       "2                                            packing like   \n",
       "3       tried dye hair got blond chunk front middle pa...   \n",
       "4       quot locked abroad quot makes bein half brown ...   \n",
       "...                                                   ...   \n",
       "113323   bill lgbt sex workers  bill sex workers gener...   \n",
       "113324  lol trump fine people sides antifa punches naz...   \n",
       "113325  say amp facial expressions everything see  vid...   \n",
       "113326  wondering shit east coast causing god send flo...   \n",
       "113327  proof african  friends get free college demonc...   \n",
       "\n",
       "                                               Clean_Text  \n",
       "0                                     fuckin transtelecom  \n",
       "1                                   working fridaaaayyyyy  \n",
       "2                                            packing like  \n",
       "3         tried dye hair got blond chunk middle hair dang  \n",
       "4       quot locked abroad quot makes bein half brown ...  \n",
       "...                                                   ...  \n",
       "113323  isnt bill lgbt sex workers bill sex workers ge...  \n",
       "113324  lol trump fine people sides antifa punches naz...  \n",
       "113325               amp facial expressions video fucking  \n",
       "113326  wondering shit east coast causing god send flo...  \n",
       "113327  proof african friends free college demoncratic...  \n",
       "\n",
       "[113328 rows x 4 columns]"
      ]
     },
     "execution_count": 13,
     "metadata": {},
     "output_type": "execute_result"
    }
   ],
   "source": [
    "df"
   ]
  },
  {
   "cell_type": "code",
   "execution_count": 14,
   "id": "450c39c0-79dd-4eaf-85fe-57e344eb81bd",
   "metadata": {},
   "outputs": [],
   "source": [
    "# Features & Labels\n",
    "Xfeatures = df['Clean_Text']\n",
    "ylabels = df['Emotion']"
   ]
  },
  {
   "cell_type": "code",
   "execution_count": 16,
   "id": "e23f2363",
   "metadata": {},
   "outputs": [
    {
     "data": {
      "text/plain": [
       "82"
      ]
     },
     "execution_count": 16,
     "metadata": {},
     "output_type": "execute_result"
    }
   ],
   "source": [
    "def get_longest_text(texts):\n",
    "    longest_input = 0\n",
    "    for text in texts:\n",
    "        text_len= len(text.split())\n",
    "        longest_input = max(longest_input, text_len)\n",
    "    return longest_input\n",
    "\n",
    "#longest_input = get_longest_text(dataset['Text']) #Xfeatures\n",
    "longest_input = get_longest_text(Xfeatures)\n",
    "longest_input"
   ]
  },
  {
   "cell_type": "code",
   "execution_count": 17,
   "id": "817517c7",
   "metadata": {},
   "outputs": [
    {
     "data": {
      "text/plain": [
       "2"
      ]
     },
     "execution_count": 17,
     "metadata": {},
     "output_type": "execute_result"
    }
   ],
   "source": [
    "len(Xfeatures[1].split())"
   ]
  },
  {
   "cell_type": "code",
   "execution_count": 18,
   "id": "25f2692e",
   "metadata": {},
   "outputs": [
    {
     "data": {
      "text/plain": [
       "50385"
      ]
     },
     "execution_count": 18,
     "metadata": {},
     "output_type": "execute_result"
    }
   ],
   "source": [
    "def get_total_words(texts):\n",
    "    total_words = []\n",
    "    for text in texts:\n",
    "        for word in text.split():\n",
    "            if word not in total_words:\n",
    "                total_words.append(word)\n",
    "#         text_len= len(text.split())\n",
    "#         total_words = total_words + text_len\n",
    "    return len(total_words)\n",
    "\n",
    "word_count = get_total_words(Xfeatures)\n",
    "word_count"
   ]
  },
  {
   "cell_type": "code",
   "execution_count": 19,
   "id": "6c6c912c",
   "metadata": {},
   "outputs": [],
   "source": [
    "from keras.preprocessing.text import one_hot"
   ]
  },
  {
   "cell_type": "code",
   "execution_count": 20,
   "id": "686230dd",
   "metadata": {},
   "outputs": [
    {
     "name": "stdout",
     "output_type": "stream",
     "text": [
      "[18283, 587]\n"
     ]
    }
   ],
   "source": [
    "# integer encode the documents\n",
    "vocab_size = 21000\n",
    "encoded_docs = [one_hot(d, vocab_size) for d in Xfeatures]\n",
    "print(encoded_docs[0])"
   ]
  },
  {
   "cell_type": "code",
   "execution_count": 21,
   "id": "6cba0129",
   "metadata": {},
   "outputs": [],
   "source": [
    "from tensorflow.keras.preprocessing.sequence import pad_sequences"
   ]
  },
  {
   "cell_type": "code",
   "execution_count": 22,
   "id": "f05446f2",
   "metadata": {},
   "outputs": [
    {
     "name": "stdout",
     "output_type": "stream",
     "text": [
      "[18283   587     0     0     0     0     0     0     0     0     0     0\n",
      "     0     0     0     0     0     0     0     0     0     0     0     0\n",
      "     0     0     0     0     0     0     0     0     0     0     0     0\n",
      "     0     0     0     0     0     0     0     0     0     0     0     0\n",
      "     0     0     0     0     0     0     0     0     0     0     0     0\n",
      "     0     0     0     0     0     0     0     0     0     0     0     0\n",
      "     0     0     0     0     0     0     0     0     0     0]\n"
     ]
    }
   ],
   "source": [
    "# pad documents to a max length of 66 words\n",
    "max_length = longest_input\n",
    "padded_docs = pad_sequences(encoded_docs, maxlen=max_length, padding='post')\n",
    "print(padded_docs[0])"
   ]
  },
  {
   "cell_type": "code",
   "execution_count": 23,
   "id": "f34058e5",
   "metadata": {},
   "outputs": [],
   "source": [
    "from tensorflow.keras.preprocessing.text import one_hot\n",
    "from tensorflow.keras.preprocessing.sequence import pad_sequences\n",
    "from tensorflow.keras.models import Sequential\n",
    "from tensorflow.keras.layers import Dense, Dropout\n",
    "from tensorflow.keras.layers import Flatten\n",
    "from tensorflow.keras.layers import Embedding\n",
    "import tensorflow as tf\n",
    "#tf.keras.layers.Embedding "
   ]
  },
  {
   "cell_type": "markdown",
   "id": "97b10cf6",
   "metadata": {},
   "source": [
    "## LSTM"
   ]
  },
  {
   "cell_type": "code",
   "execution_count": 103,
   "id": "34259c53",
   "metadata": {},
   "outputs": [
    {
     "name": "stdout",
     "output_type": "stream",
     "text": [
      "Model: \"model_5\"\n",
      "_________________________________________________________________\n",
      " Layer (type)                Output Shape              Param #   \n",
      "=================================================================\n",
      " input_6 (InputLayer)        [(None, None)]            0         \n",
      "                                                                 \n",
      " embedding_5 (Embedding)     (None, None, 132)         2772000   \n",
      "                                                                 \n",
      " lstm_10 (LSTM)              (None, None, 1)           536       \n",
      "                                                                 \n",
      " lstm_11 (LSTM)              (None, 1)                 12        \n",
      "                                                                 \n",
      " dense_5 (Dense)             (None, 10)                20        \n",
      "                                                                 \n",
      "=================================================================\n",
      "Total params: 2,772,568\n",
      "Trainable params: 2,772,568\n",
      "Non-trainable params: 0\n",
      "_________________________________________________________________\n"
     ]
    },
    {
     "data": {
      "text/plain": [
       "\"\\n# define the model\\nmodel = Sequential()\\nmodel.add(Embedding(vocab_size, 132, input_length=max_length))\\n\\nmodel.add(tf.keras.layers.LSTM (1, return_sequences=True ))\\n\\nmodel.add(tf.keras.layers.LSTM (1))\\n\\n#model.add(Flatten())\\n\\n#model.add(Dense(1024, activation='relu'))\\n#model.add(Dropout(0.2))\\n\\nmodel.add(Dense(10, activation='softmax'))\\n\\n\\n# summarize the model\\nprint(model.summary())\\n\""
      ]
     },
     "execution_count": 103,
     "metadata": {},
     "output_type": "execute_result"
    }
   ],
   "source": [
    "\n",
    "from tensorflow.keras import layers\n",
    "\n",
    "int_sequences_input = tf.keras.Input(shape=(None,), dtype=\"int64\")\n",
    "\n",
    "embedded_sequences = Embedding(vocab_size, 132, input_length=max_length)(int_sequences_input)\n",
    "\n",
    "x = layers.LSTM(1, return_sequences=True, )(embedded_sequences) # 10 , 50, 200, 500\n",
    "x = layers.LSTM(1)(x)\n",
    "#x =layers.Flatten()(x)\n",
    "preds = layers.Dense(10, activation=\"softmax\")(x)\n",
    "\n",
    "model = tf.keras.Model(int_sequences_input, preds)\n",
    "model.summary()\n"
   ]
  },
  {
   "cell_type": "code",
   "execution_count": 104,
   "id": "3cc3fdd5",
   "metadata": {},
   "outputs": [
    {
     "data": {
      "image/png": "[encoded data removed]",
      "text/plain": [
       "<IPython.core.display.Image object>"
      ]
     },
     "execution_count": 104,
     "metadata": {},
     "output_type": "execute_result"
    }
   ],
   "source": [
    "from tensorflow import keras\n",
    "keras.utils.plot_model(model, show_shapes=True)"
   ]
  },
  {
   "cell_type": "code",
   "execution_count": 112,
   "id": "a476ad13",
   "metadata": {},
   "outputs": [],
   "source": [
    "\n",
    "model.compile(optimizer=tf.keras.optimizers.Adam(learning_rate=0.001),\n",
    "              loss=tf.losses.CategoricalCrossentropy(from_logits=False),\n",
    "              metrics=['accuracy'])"
   ]
  },
  {
   "cell_type": "code",
   "execution_count": 113,
   "id": "ca7e3c62",
   "metadata": {},
   "outputs": [
    {
     "data": {
      "text/plain": [
       "array([[1., 0., 0., ..., 0., 0., 0.],\n",
       "       [1., 0., 0., ..., 0., 0., 0.],\n",
       "       [1., 0., 0., ..., 0., 0., 0.],\n",
       "       ...,\n",
       "       [0., 0., 0., ..., 0., 0., 0.],\n",
       "       [0., 0., 0., ..., 0., 0., 0.],\n",
       "       [0., 0., 0., ..., 0., 0., 0.]], dtype=float32)"
      ]
     },
     "execution_count": 113,
     "metadata": {},
     "output_type": "execute_result"
    }
   ],
   "source": [
    "from sklearn.preprocessing import LabelEncoder\n",
    "from tensorflow.keras.utils import to_categorical\n",
    "\n",
    "encoder = LabelEncoder()\n",
    "y_encoder = encoder.fit_transform(ylabels)\n",
    "y = to_categorical(y_encoder)\n",
    "y"
   ]
  },
  {
   "cell_type": "code",
   "execution_count": 114,
   "id": "b0a79a6e",
   "metadata": {},
   "outputs": [
    {
     "data": {
      "text/plain": [
       "array([[1, 0, 0, ..., 0, 0, 0],\n",
       "       [1, 0, 0, ..., 0, 0, 0],\n",
       "       [1, 0, 0, ..., 0, 0, 0],\n",
       "       ...,\n",
       "       [0, 0, 0, ..., 0, 0, 0],\n",
       "       [0, 0, 0, ..., 0, 0, 0],\n",
       "       [0, 0, 0, ..., 0, 0, 0]])"
      ]
     },
     "execution_count": 114,
     "metadata": {},
     "output_type": "execute_result"
    }
   ],
   "source": [
    "y=y.astype(np.int32)\n",
    "y"
   ]
  },
  {
   "cell_type": "code",
   "execution_count": 115,
   "id": "15f9e628",
   "metadata": {},
   "outputs": [],
   "source": [
    "from sklearn.model_selection import train_test_split\n",
    "X_train, X_test, y_train, y_test = train_test_split(padded_docs, y, test_size=0.33, random_state=42)"
   ]
  },
  {
   "cell_type": "code",
   "execution_count": 116,
   "id": "fbf3cadc",
   "metadata": {},
   "outputs": [
    {
     "data": {
      "text/plain": [
       "((75929, 82), (75929, 10))"
      ]
     },
     "execution_count": 116,
     "metadata": {},
     "output_type": "execute_result"
    }
   ],
   "source": [
    "X_train.shape, y_train.shape"
   ]
  },
  {
   "cell_type": "code",
   "execution_count": 117,
   "id": "77cd6371",
   "metadata": {},
   "outputs": [
    {
     "data": {
      "text/plain": [
       "array([[0, 1, 0, ..., 0, 0, 0],\n",
       "       [0, 0, 0, ..., 0, 0, 0],\n",
       "       [0, 0, 0, ..., 0, 0, 0],\n",
       "       ...,\n",
       "       [0, 0, 0, ..., 0, 0, 0],\n",
       "       [1, 0, 0, ..., 0, 0, 0],\n",
       "       [0, 0, 1, ..., 0, 0, 0]])"
      ]
     },
     "execution_count": 117,
     "metadata": {},
     "output_type": "execute_result"
    }
   ],
   "source": [
    "y_train "
   ]
  },
  {
   "cell_type": "code",
   "execution_count": 141,
   "id": "ece53fab",
   "metadata": {},
   "outputs": [
    {
     "name": "stdout",
     "output_type": "stream",
     "text": [
      "Epoch 1/10\n",
      "1187/1187 [==============================] - 45s 37ms/step - loss: 1.6020 - accuracy: 0.4331 - val_loss: 1.3217 - val_accuracy: 0.5395\n",
      "Epoch 2/10\n",
      "1187/1187 [==============================] - 42s 36ms/step - loss: 1.2621 - accuracy: 0.5637 - val_loss: 1.2441 - val_accuracy: 0.5724\n",
      "Epoch 3/10\n",
      "1187/1187 [==============================] - 43s 36ms/step - loss: 1.1605 - accuracy: 0.6006 - val_loss: 1.2018 - val_accuracy: 0.5912\n",
      "Epoch 4/10\n",
      "1187/1187 [==============================] - 43s 36ms/step - loss: 1.0911 - accuracy: 0.6273 - val_loss: 1.1738 - val_accuracy: 0.6007\n",
      "Epoch 5/10\n",
      "1187/1187 [==============================] - 43s 36ms/step - loss: 1.0353 - accuracy: 0.6475 - val_loss: 1.1766 - val_accuracy: 0.6043\n",
      "Epoch 6/10\n",
      "1187/1187 [==============================] - 43s 36ms/step - loss: 0.9975 - accuracy: 0.6593 - val_loss: 1.1712 - val_accuracy: 0.6088\n",
      "Epoch 7/10\n",
      "1187/1187 [==============================] - 43s 36ms/step - loss: 0.9628 - accuracy: 0.6722 - val_loss: 1.1711 - val_accuracy: 0.6131\n",
      "Epoch 8/10\n",
      "1187/1187 [==============================] - 43s 36ms/step - loss: 0.9393 - accuracy: 0.6788 - val_loss: 1.1632 - val_accuracy: 0.6188\n",
      "Epoch 9/10\n",
      "1187/1187 [==============================] - 42s 36ms/step - loss: 0.9156 - accuracy: 0.6855 - val_loss: 1.1657 - val_accuracy: 0.6183\n",
      "Epoch 10/10\n",
      "1187/1187 [==============================] - 42s 35ms/step - loss: 0.8901 - accuracy: 0.6958 - val_loss: 1.1743 - val_accuracy: 0.6192\n"
     ]
    }
   ],
   "source": [
    "history=model.fit(X_train,y_train,validation_data=(X_test,y_test),epochs=20,batch_size=64)"
   ]
  },
  {
   "cell_type": "code",
   "execution_count": 142,
   "id": "e025adfb",
   "metadata": {},
   "outputs": [
    {
     "data": {
      "text/html": [
       "<div>\n",
       "<style scoped>\n",
       "    .dataframe tbody tr th:only-of-type {\n",
       "        vertical-align: middle;\n",
       "    }\n",
       "\n",
       "    .dataframe tbody tr th {\n",
       "        vertical-align: top;\n",
       "    }\n",
       "\n",
       "    .dataframe thead th {\n",
       "        text-align: right;\n",
       "    }\n",
       "</style>\n",
       "<table border=\"1\" class=\"dataframe\">\n",
       "  <thead>\n",
       "    <tr style=\"text-align: right;\">\n",
       "      <th></th>\n",
       "      <th>loss</th>\n",
       "      <th>accuracy</th>\n",
       "      <th>val_loss</th>\n",
       "      <th>val_accuracy</th>\n",
       "    </tr>\n",
       "  </thead>\n",
       "  <tbody>\n",
       "    <tr>\n",
       "      <th>0</th>\n",
       "      <td>1.601978</td>\n",
       "      <td>0.433062</td>\n",
       "      <td>1.321721</td>\n",
       "      <td>0.539480</td>\n",
       "    </tr>\n",
       "    <tr>\n",
       "      <th>1</th>\n",
       "      <td>1.262143</td>\n",
       "      <td>0.563711</td>\n",
       "      <td>1.244091</td>\n",
       "      <td>0.572422</td>\n",
       "    </tr>\n",
       "    <tr>\n",
       "      <th>2</th>\n",
       "      <td>1.160547</td>\n",
       "      <td>0.600627</td>\n",
       "      <td>1.201823</td>\n",
       "      <td>0.591192</td>\n",
       "    </tr>\n",
       "    <tr>\n",
       "      <th>3</th>\n",
       "      <td>1.091125</td>\n",
       "      <td>0.627310</td>\n",
       "      <td>1.173801</td>\n",
       "      <td>0.600658</td>\n",
       "    </tr>\n",
       "    <tr>\n",
       "      <th>4</th>\n",
       "      <td>1.035343</td>\n",
       "      <td>0.647500</td>\n",
       "      <td>1.176624</td>\n",
       "      <td>0.604348</td>\n",
       "    </tr>\n",
       "    <tr>\n",
       "      <th>5</th>\n",
       "      <td>0.997455</td>\n",
       "      <td>0.659300</td>\n",
       "      <td>1.171154</td>\n",
       "      <td>0.608760</td>\n",
       "    </tr>\n",
       "    <tr>\n",
       "      <th>6</th>\n",
       "      <td>0.962754</td>\n",
       "      <td>0.672246</td>\n",
       "      <td>1.171066</td>\n",
       "      <td>0.613091</td>\n",
       "    </tr>\n",
       "    <tr>\n",
       "      <th>7</th>\n",
       "      <td>0.939339</td>\n",
       "      <td>0.678753</td>\n",
       "      <td>1.163228</td>\n",
       "      <td>0.618840</td>\n",
       "    </tr>\n",
       "    <tr>\n",
       "      <th>8</th>\n",
       "      <td>0.915565</td>\n",
       "      <td>0.685509</td>\n",
       "      <td>1.165701</td>\n",
       "      <td>0.618305</td>\n",
       "    </tr>\n",
       "    <tr>\n",
       "      <th>9</th>\n",
       "      <td>0.890074</td>\n",
       "      <td>0.695782</td>\n",
       "      <td>1.174304</td>\n",
       "      <td>0.619241</td>\n",
       "    </tr>\n",
       "  </tbody>\n",
       "</table>\n",
       "</div>"
      ],
      "text/plain": [
       "       loss  accuracy  val_loss  val_accuracy\n",
       "0  1.601978  0.433062  1.321721      0.539480\n",
       "1  1.262143  0.563711  1.244091      0.572422\n",
       "2  1.160547  0.600627  1.201823      0.591192\n",
       "3  1.091125  0.627310  1.173801      0.600658\n",
       "4  1.035343  0.647500  1.176624      0.604348\n",
       "5  0.997455  0.659300  1.171154      0.608760\n",
       "6  0.962754  0.672246  1.171066      0.613091\n",
       "7  0.939339  0.678753  1.163228      0.618840\n",
       "8  0.915565  0.685509  1.165701      0.618305\n",
       "9  0.890074  0.695782  1.174304      0.619241"
      ]
     },
     "execution_count": 142,
     "metadata": {},
     "output_type": "execute_result"
    }
   ],
   "source": [
    "#Convert history to pandas dataframe\n",
    "res_df = pd.DataFrame(history.history)\n",
    "res_df"
   ]
  },
  {
   "cell_type": "code",
   "execution_count": 146,
   "id": "ce6becf1",
   "metadata": {},
   "outputs": [
    {
     "data": {
      "image/png": "[encoded data removed]",
      "text/plain": [
       "<Figure size 1080x720 with 1 Axes>"
      ]
     },
     "metadata": {
      "needs_background": "light"
     },
     "output_type": "display_data"
    },
    {
     "data": {
      "image/png": "[encoded data removed]",
      "text/plain": [
       "<Figure size 1080x720 with 1 Axes>"
      ]
     },
     "metadata": {
      "needs_background": "light"
     },
     "output_type": "display_data"
    }
   ],
   "source": [
    "import matplotlib.pyplot as plt\n",
    "\n",
    "# summarize history for accuracy\n",
    "plt.plot(history.history['accuracy'])\n",
    "plt.plot(history.history['val_accuracy'])\n",
    "plt.title('model accuracy')\n",
    "plt.ylabel('accuracy')\n",
    "plt.xlabel('epoch')\n",
    "plt.legend(['Train', 'Validation'], loc='upper left')\n",
    "plt.show()\n",
    "# summarize history for loss\n",
    "plt.plot(history.history['loss'])\n",
    "plt.plot(history.history['val_loss'])\n",
    "plt.title('model loss')\n",
    "plt.ylabel('loss')\n",
    "plt.xlabel('epoch')\n",
    "plt.legend(['Train', 'Validation'], loc='upper left')\n",
    "plt.show()"
   ]
  },
  {
   "cell_type": "code",
   "execution_count": null,
   "id": "b92b08ee",
   "metadata": {},
   "outputs": [],
   "source": []
  },
  {
   "cell_type": "code",
   "execution_count": null,
   "id": "857f029a",
   "metadata": {},
   "outputs": [],
   "source": []
  },
  {
   "cell_type": "code",
   "execution_count": null,
   "id": "9a8aa01a",
   "metadata": {},
   "outputs": [],
   "source": []
  }
 ],
 "metadata": {
  "kernelspec": {
   "display_name": "Python 3 (ipykernel)",
   "language": "python",
   "name": "python3"
  },
  "language_info": {
   "codemirror_mode": {
    "name": "ipython",
    "version": 3
   },
   "file_extension": ".py",
   "mimetype": "text/x-python",
   "name": "python",
   "nbconvert_exporter": "python",
   "pygments_lexer": "ipython3",
   "version": "3.10.4"
  }
 },
 "nbformat": 4,
 "nbformat_minor": 5
}